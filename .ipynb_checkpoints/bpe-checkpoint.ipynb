{
 "cells": [
  {
   "cell_type": "markdown",
   "metadata": {},
   "source": [
    "# BPE Tokenizer\n",
    "\n",
    "Pada kode ini, ditunjukkan contoh penggunaan BPE Tokenizer buatan HuggingFace. [Petunjuk instalasi package](https://huggingface.co/docs/tokenizers/installation)"
   ]
  },
  {
   "cell_type": "code",
   "execution_count": 1,
   "metadata": {},
   "outputs": [],
   "source": [
    "#!pip install tokenizers"
   ]
  },
  {
   "cell_type": "code",
   "execution_count": 2,
   "metadata": {},
   "outputs": [],
   "source": [
    "# Import semua packages yang diperlukan.\n",
    "from tokenizers import Tokenizer\n",
    "from tokenizers.models import BPE\n",
    "from tokenizers.trainers import BpeTrainer\n",
    "from tokenizers.pre_tokenizers import Whitespace"
   ]
  },
  {
   "cell_type": "code",
   "execution_count": 3,
   "metadata": {},
   "outputs": [],
   "source": [
    "# Instantiate tokenizer BPE dengan unknown token [UNK] (berguna \n",
    "# saat testing jika menemukan misalnya karakter yang tidak dikenali).\n",
    "tokenizer = Tokenizer(BPE(unk_token=\"[UNK]\"))"
   ]
  },
  {
   "cell_type": "code",
   "execution_count": 4,
   "metadata": {},
   "outputs": [],
   "source": [
    "# Instantiate trainer BPE, PERHATIKAN hyperparameter vocab_size yang konsepnya\n",
    "# mirip dengan `num_of_merges` yang diajarkan di kelas (relasinya kurang lebih \n",
    "# num_of_merges = vocab_size - num_of_alphabet).\n",
    "trainer = BpeTrainer(\n",
    "    vocab_size=10000,  # Perbesar/perkecil dan lihat bedanya pada hasil tokenisasi\n",
    "    special_tokens=[\"[UNK]\", \"[CLS]\", \"[SEP]\", \"[PAD]\", \"[MASK]\"],\n",
    ")"
   ]
  },
  {
   "cell_type": "code",
   "execution_count": 5,
   "metadata": {},
   "outputs": [],
   "source": [
    "# Menambahkan pre-tokenizer yang berfungsi untuk memecah tiap kalimat/dokumen\n",
    "# menjadi individual words berdasarkan keberadaan whitespace.\n",
    "tokenizer.pre_tokenizer = Whitespace()"
   ]
  },
  {
   "cell_type": "code",
   "execution_count": 6,
   "metadata": {},
   "outputs": [],
   "source": [
    "# Mengekstrak kalimat-kalimat korpus ke dataset tersendiri sesuai spesifikasi\n",
    "# input dari package tokenizer, yaitu file berisi raw text (tanpa hasil tokenisasi)\n",
    "with open('train.txt', 'r') as train, open('train_text_only.txt', 'w') as out:\n",
    "    lines = train.readlines()\n",
    "    for line in lines:\n",
    "        if line.startswith('# text ='):\n",
    "            out.write(line[9:])"
   ]
  },
  {
   "cell_type": "code",
   "execution_count": 7,
   "metadata": {},
   "outputs": [],
   "source": [
    "# Melatih tokenizer dengan corpus.\n",
    "tokenizer.train(\n",
    "    files=[\"train_text_only.txt\"],\n",
    "    trainer=trainer\n",
    ")"
   ]
  },
  {
   "cell_type": "code",
   "execution_count": 8,
   "metadata": {},
   "outputs": [
    {
     "name": "stdout",
     "output_type": "stream",
     "text": [
      "['Kera', 'untuk', 'aman', 'kan', 'pes', 'ta', 'olahraga']\n"
     ]
    }
   ],
   "source": [
    "# Contoh melakukan tokenisasi suatu kalimat\n",
    "print(tokenizer.encode('Kera untuk amankan pesta olahraga').tokens)"
   ]
  },
  {
   "cell_type": "code",
   "execution_count": 9,
   "metadata": {},
   "outputs": [
    {
     "name": "stdout",
     "output_type": "stream",
     "text": [
      "['Pemerintah', 'kota', 'Delhi', 'meng', 'erah', 'kan', 'monyet', 'untuk', 'mengusir', 'monyet', '-', 'monyet', 'lain', 'yang', 'berbadan', 'lebih', 'kecil', 'dari', 'arena', 'P', 'es', 'ta', 'O', 'lah', 'raga', 'Per', 'sem', 'ak', 'm', 'uran', '.']\n"
     ]
    }
   ],
   "source": [
    "print(tokenizer.encode('Pemerintah kota Delhi mengerahkan monyet untuk mengusir monyet-monyet lain yang berbadan lebih kecil dari arena Pesta Olahraga Persemakmuran.').tokens)"
   ]
  },
  {
   "cell_type": "code",
   "execution_count": 10,
   "metadata": {},
   "outputs": [
    {
     "name": "stdout",
     "output_type": "stream",
     "text": [
      "['Penanaman', 'modal', 'asing', '(', 'PMA', ')', 'di', 'Malaysia', 'tahun', '2006', 'mencapai', 'lima', 'kali', 'lebih', 'besar', 'dibandingkan', 'Indonesia', ',', 'hal', 'ini', 'menunjukkan', 'pembangunan', 'ekonomi', 'Malaysia', 'jauh', 'lebih', 'menarik', 'dibandingkan', 'Indonesia', 'bagi', 'investor', 'asing', '.']\n"
     ]
    }
   ],
   "source": [
    "print(tokenizer.encode('Penanaman modal asing (PMA) di Malaysia tahun 2006 mencapai lima kali lebih besar dibandingkan Indonesia, hal ini menunjukkan pembangunan ekonomi Malaysia jauh lebih menarik dibandingkan Indonesia bagi investor asing.').tokens)"
   ]
  },
  {
   "cell_type": "markdown",
   "metadata": {},
   "source": [
    "# Nomor 2\n",
    "\n",
    "Buat program untuk menghitung akurasi kedua tokenizer (latih pada korpus training dengan vocab_size\n",
    "10000, uji akurasi pada korpus testing). Tampilkan source code-nya pada laporan dan berikan penjelasan. (Hint: hati-hati terhadap keberadaan representasi newline (\\n) saat membandingkan hasil\n",
    "tokenisasi)."
   ]
  },
  {
   "cell_type": "code",
   "execution_count": 13,
   "metadata": {},
   "outputs": [],
   "source": [
    "train_text = \"\"\n",
    "gold_standard = []\n",
    "\n",
    "with open('test.txt', 'r') as test:\n",
    "    lines = test.readlines()\n",
    "    for line in lines:\n",
    "        if line.startswith('# text ='):\n",
    "            train_text += line[9:]\n",
    "        else:\n",
    "            gold_standard.append(line.strip())\n",
    "            \n",
    "# print(train_text)\n",
    "# print(gold_standard)"
   ]
  },
  {
   "cell_type": "code",
   "execution_count": 15,
   "metadata": {},
   "outputs": [
    {
     "name": "stdout",
     "output_type": "stream",
     "text": [
      "9092 / 10041\n",
      "0.905487501244896\n"
     ]
    }
   ],
   "source": [
    "def tokenizer_test(tokenizer, gold_standard, text):\n",
    "    accurate_tokenized = 0\n",
    "    total_corpus = len(gold_standard)\n",
    "    gs_copy = gold_standard.copy()\n",
    "    current_number = 0\n",
    "    \n",
    "    tokenize_result = tokenizer.encode(text).tokens\n",
    "    \n",
    "    for word in tokenize_result:\n",
    "        if word in gs_copy[current_number:total_corpus]:\n",
    "            accurate_tokenized += 1\n",
    "            for num in range(current_number, len(gs_copy)):\n",
    "                if gs_copy[num] != word:\n",
    "                    current_number += 1\n",
    "                    break\n",
    "            \n",
    "    print(str(accurate_tokenized) + \" / \" + str(total_corpus))\n",
    "    return accurate_tokenized / total_corpus\n",
    "    \n",
    "print(tokenizer_test(tokenizer, gold_standard, train_text))"
   ]
  },
  {
   "cell_type": "code",
   "execution_count": null,
   "metadata": {},
   "outputs": [],
   "source": []
  }
 ],
 "metadata": {
  "kernelspec": {
   "display_name": "Python 3 (ipykernel)",
   "language": "python",
   "name": "python3"
  },
  "language_info": {
   "codemirror_mode": {
    "name": "ipython",
    "version": 3
   },
   "file_extension": ".py",
   "mimetype": "text/x-python",
   "name": "python",
   "nbconvert_exporter": "python",
   "pygments_lexer": "ipython3",
   "version": "3.9.12"
  }
 },
 "nbformat": 4,
 "nbformat_minor": 2
}
