{
 "cells": [
  {
   "cell_type": "markdown",
   "id": "c3330ec3",
   "metadata": {},
   "source": [
    "Membaca Training Text"
   ]
  },
  {
   "cell_type": "code",
   "execution_count": null,
   "id": "0397ca3c",
   "metadata": {},
   "outputs": [],
   "source": [
    "train_text = \"\"\n",
    "gold_standard = []\n",
    "\n",
    "with open('test.txt', 'r') as test:\n",
    "    lines = test.readlines()\n",
    "    for line in lines:\n",
    "        if line.startswith('# text ='):\n",
    "            train_text += line[9:]\n",
    "        else:\n",
    "            gold_standard.append(line.strip())\n",
    "        "
   ]
  },
  {
   "cell_type": "markdown",
   "id": "e901d9bc",
   "metadata": {},
   "source": [
    "Akurasi untuk BPE"
   ]
  },
  {
   "cell_type": "code",
   "execution_count": null,
   "id": "e2869c8a",
   "metadata": {},
   "outputs": [],
   "source": [
    "def tokenizer_test(tokenizer, gold_standard, text):\n",
    "    accurate_tokenized = 0\n",
    "    total_corpus = len(gold_standard)\n",
    "    gs_copy = gold_standard.copy()\n",
    "    current_number = 0\n",
    "    \n",
    "    tokenize_result = tokenizer.encode(text).tokens\n",
    "    \n",
    "    for word in tokenize_result[current_number:len(tokenize_result)]:\n",
    "        if word in gs_copy:\n",
    "            accurate_tokenized += 1\n",
    "            for num in range(current_number, len(gs_copy)):\n",
    "                if gs_copy[num] != word:\n",
    "                    current_number += 1\n",
    "                    break\n",
    "            if len(gs_copy) == 0: \n",
    "                break\n",
    "            \n",
    "    print(str(accurate_tokenized) + \" / \" + str(total_corpus))\n",
    "    return accurate_tokenized / total_corpus\n",
    "    \n",
    "print(tokenizer_test(tokenizer, gold_standard, train_text))"
   ]
  },
  {
   "cell_type": "markdown",
   "id": "3c95527e",
   "metadata": {},
   "source": [
    "Akurasi untuk WordPiece"
   ]
  },
  {
   "cell_type": "code",
   "execution_count": null,
   "id": "717d555f",
   "metadata": {},
   "outputs": [],
   "source": [
    "def tokenizer_test(gold_standard, text):\n",
    "    accurate_tokenized = 0\n",
    "    total_corpus = len(gold_standard)\n",
    "    gs_copy = gold_standard.copy()\n",
    "    current_number = 0\n",
    "    \n",
    "    tokenize_result = tokenize(text)\n",
    "    \n",
    "    for word in tokenize_result:\n",
    "        word_proc = word\n",
    "        \n",
    "        if word_proc[:2] == \"##\":\n",
    "            word_proc = word_proc[2:]\n",
    "            \n",
    "        if word_proc in gs_copy[current_number:total_corpus]:\n",
    "            accurate_tokenized += 1\n",
    "            for num in range(current_number, len(gs_copy)):\n",
    "                if gs_copy[num] != word:\n",
    "                    current_number += 1\n",
    "                    break\n",
    "            if len(gs_copy) == 0: \n",
    "                break\n",
    "            \n",
    "    print(str(accurate_tokenized) + \" / \" + str(total_corpus))\n",
    "    return accurate_tokenized / total_corpus\n",
    "    \n",
    "print(tokenizer_test(gold_standard, train_text))"
   ]
  }
 ],
 "metadata": {
  "kernelspec": {
   "display_name": "Python 3 (ipykernel)",
   "language": "python",
   "name": "python3"
  },
  "language_info": {
   "codemirror_mode": {
    "name": "ipython",
    "version": 3
   },
   "file_extension": ".py",
   "mimetype": "text/x-python",
   "name": "python",
   "nbconvert_exporter": "python",
   "pygments_lexer": "ipython3",
   "version": "3.9.12"
  }
 },
 "nbformat": 4,
 "nbformat_minor": 5
}
